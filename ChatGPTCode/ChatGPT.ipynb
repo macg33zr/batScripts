{
 "cells": [
  {
   "cell_type": "code",
   "execution_count": 2,
   "id": "d44fbe73-fe36-4944-a610-a4b30fc04fa5",
   "metadata": {},
   "outputs": [
    {
     "ename": "ModuleNotFoundError",
     "evalue": "No module named 'numpy'",
     "output_type": "error",
     "traceback": [
      "\u001b[0;31m---------------------------------------------------------------------------\u001b[0m",
      "\u001b[0;31mModuleNotFoundError\u001b[0m                       Traceback (most recent call last)",
      "Cell \u001b[0;32mIn[2], line 2\u001b[0m\n\u001b[1;32m      1\u001b[0m \u001b[39mimport\u001b[39;00m \u001b[39mwave\u001b[39;00m\n\u001b[0;32m----> 2\u001b[0m \u001b[39mimport\u001b[39;00m \u001b[39mnumpy\u001b[39;00m \u001b[39mas\u001b[39;00m \u001b[39mnp\u001b[39;00m\n\u001b[1;32m      3\u001b[0m \u001b[39mimport\u001b[39;00m \u001b[39mmatplotlib\u001b[39;00m\u001b[39m.\u001b[39;00m\u001b[39mpyplot\u001b[39;00m \u001b[39mas\u001b[39;00m \u001b[39mplt\u001b[39;00m\n\u001b[1;32m      4\u001b[0m \u001b[39mfrom\u001b[39;00m \u001b[39mscipy\u001b[39;00m\u001b[39m.\u001b[39;00m\u001b[39mfftpack\u001b[39;00m \u001b[39mimport\u001b[39;00m fft\n",
      "\u001b[0;31mModuleNotFoundError\u001b[0m: No module named 'numpy'"
     ]
    }
   ],
   "source": [
    "import wave\n",
    "import numpy as np\n",
    "import matplotlib.pyplot as plt\n",
    "from scipy.fftpack import fft\n",
    "\n",
    "def get_frequency(filename, freq_min, freq_max):\n",
    "    with wave.open(filename, \"rb\") as wave_file:\n",
    "        # Get the sample rate and number of frames\n",
    "        sample_rate = wave_file.getframerate()\n",
    "        num_frames = wave_file.getnframes()\n",
    "        \n",
    "        # Read the audio data from the wave file\n",
    "        audio_data = wave_file.readframes(num_frames)\n",
    "        audio_data = np.frombuffer(audio_data, dtype=np.int16)\n",
    "        \n",
    "        # Compute the FFT of the audio data\n",
    "        fft_data = fft(audio_data)\n",
    "        fft_data = np.abs(fft_data)\n",
    "        fft_freqs = np.fft.fftfreq(len(fft_data), 1/sample_rate)\n",
    "        \n",
    "        # Get the indices of the desired frequency range\n",
    "        start_idx = np.searchsorted(fft_freqs, freq_min)\n",
    "        end_idx = np.searchsorted(fft_freqs, freq_max)\n",
    "        \n",
    "        # Get the frequency with the highest amplitude\n",
    "        max_idx = np.argmax(fft_data[start_idx:end_idx])\n",
    "        max_frequency = fft_freqs[start_idx + max_idx]\n",
    "        \n",
    "        return max_frequency, fft_data, fft_freqs\n",
    "\n",
    "def plot_spectrogram(filename):\n",
    "    with wave.open(filename, \"rb\") as wave_file:\n",
    "        # Get the sample rate and number of frames\n",
    "        sample_rate = wave_file.getframerate()\n",
    "        num_frames = wave_file.getnframes()\n",
    "        \n",
    "        # Read the audio data from the wave file\n",
    "        audio_data = wave_file.readframes(num_frames)\n",
    "        audio_data = np.frombuffer(audio_data, dtype=np.int16)\n",
    "        \n",
    "        # Plot the spectrogram\n",
    "        plt.specgram(audio_data, NFFT=1024, Fs=sample_rate)\n",
    "        plt.xlabel(\"Time (s)\")\n",
    "        plt.ylabel(\"Frequency (Hz)\")\n",
    "        plt.show()\n",
    "\n",
    "def plot_amplitude_vs_frequency(fft_data, fft_freqs):\n",
    "    plt.plot(fft_freqs, fft_data)\n",
    "    plt.xlabel(\"Frequency (Hz)\")\n",
    "    plt.ylabel(\"Amplitude\")\n",
    "    plt.show()\n",
    "\n",
    "filename = \"/Users/bill/Documents/AudioMoth/test/bats/20220914_201400T.WAV\"\n",
    "freq_min = 40000\n",
    "freq_max = 60000\n",
    "\n",
    "max_frequency, fft_data, fft_freqs = get_frequency(filename, freq_min, freq_max)\n",
    "print(\"The frequency with the highest amplitude in the range [{}, {}] is {} Hz\".format(freq_min, freq_max, max_frequency))\n"
   ]
  },
  {
   "cell_type": "code",
   "execution_count": null,
   "id": "efd32f88-560d-43fb-8b93-9325f47b96af",
   "metadata": {},
   "outputs": [],
   "source": []
  }
 ],
 "metadata": {
  "kernelspec": {
   "display_name": "Python 3",
   "language": "python",
   "name": "python3"
  },
  "language_info": {
   "codemirror_mode": {
    "name": "ipython",
    "version": 3
   },
   "file_extension": ".py",
   "mimetype": "text/x-python",
   "name": "python",
   "nbconvert_exporter": "python",
   "pygments_lexer": "ipython3",
   "version": "3.11.1"
  },
  "vscode": {
   "interpreter": {
    "hash": "aee8b7b246df8f9039afb4144a1f6fd8d2ca17a180786b69acc140d282b71a49"
   }
  }
 },
 "nbformat": 4,
 "nbformat_minor": 5
}
