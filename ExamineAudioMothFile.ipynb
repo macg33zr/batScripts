{
 "cells": [
  {
   "cell_type": "markdown",
   "metadata": {},
   "source": [
    "# Examine AudioMoth WAV File\n",
    "\n",
    "Look at frequency spectrum and wave form of a WAV file and print out some information \n",
    "about it including maximum frequencies in supplied ranges for bats, birds etc."
   ]
  },
  {
   "cell_type": "markdown",
   "metadata": {},
   "source": [
    "## Choose the file and set frequency ranges of interest here"
   ]
  },
  {
   "cell_type": "code",
   "execution_count": null,
   "metadata": {
    "tags": []
   },
   "outputs": [],
   "source": [
    "# Shared code\n",
    "from utilities import *\n",
    "\n",
    "# ** Set path to files folder here **\n",
    "path = '/Users/bill/Documents/AudioMoth/test/'\n",
    "\n",
    "# Browse for path to file\n",
    "file_dialog = browse_for_path(path, False)\n",
    "print(\"Path is: \", path)\n",
    "\n",
    "# Frequency ranges of interest\n",
    "freqRanges = {\n",
    "    # Bats 40Khz to 60Khz\n",
    "    'bats': [40000,60000],\n",
    "\n",
    "    # Birds 1Khz to 12Khz\n",
    "    'birds':[1000,12000],\n",
    "}\n",
    "print('Frequency ranges: ', freqRanges)"
   ]
  },
  {
   "cell_type": "markdown",
   "metadata": {},
   "source": [
    "## Run this to examine the file"
   ]
  },
  {
   "cell_type": "code",
   "execution_count": null,
   "metadata": {
    "tags": []
   },
   "outputs": [],
   "source": [
    "# Update path from dialog\n",
    "path = file_dialog.selected\n",
    "print('Examine file: ', path)\n",
    "\n",
    "if(check_wav_file(path) == True):\n",
    "    print('File looks OK for WAV')\n",
    "    \n",
    "    # Get comment and recorded time, voltage, temp\n",
    "    comment, recorded_time, battery, temperature = get_comment_and_data(path)\n",
    "\n",
    "    # Print some useful info about the files...\n",
    "    print('--------------------------------------------------------------------------------------------------')\n",
    "    print('File: ', path)\n",
    "    print('Details: ', comment)\n",
    "    print('Recorded time: ', recorded_time)\n",
    "    print('Battery voltage: ', battery)\n",
    "    print('Temperature: ', temperature)\n",
    "\n",
    "    # Get the WAV file data and sample rate\n",
    "    data, rate = get_wav_info(path)\n",
    "    log_and_print('Sample rate: '+str(rate))\n",
    "\n",
    "    # Plot the spectrogram. Ignore the returned item.. \n",
    "    plot_spectrogram(data, rate, path, recorded_time) \n",
    "\n",
    "    # Now print out frequency range data and plot\n",
    "    fileClassified = False\n",
    "    doFreqPlot = True\n",
    "    for freqRangeKey in freqRanges:\n",
    "\n",
    "        freqRangeOfInterest = [freqRanges[freqRangeKey][0],freqRanges[freqRangeKey][1]]\n",
    "\n",
    "        # Get frequencies and plot if not done\n",
    "        max_freq, max_freq_val, finterest_max_val, max_freq_range = plot_get_freqs(data, rate, path, recorded_time, doFreqPlot, freqRangeOfInterest[0], freqRangeOfInterest[1])\n",
    " \n",
    "        # Done freq plot so turn that off for next check..\n",
    "        doFreqPlot = False\n",
    "\n",
    "        print('*** Frequency analysis for range: ', str(freqRangeKey))\n",
    "        print('Start frequency : ', str(freqRangeOfInterest[0]))\n",
    "        print('End frequency : ', str(freqRangeOfInterest[1]))\n",
    "\n",
    "        print('Max freq Khz: '+str(round(max_freq/1000,2)))\n",
    "        print('Max freq value: '+str(round(max_freq_val,2)))\n",
    "        print('Freq of interest range (Khz): '+str(freqRangeOfInterest[0]/1000)+','+str(freqRangeOfInterest[1]/1000))\n",
    "        print('Max value in range of interest: '+str(round(finterest_max_val,2)))\n",
    "        print('Max frequency in range of interest (Khz): '+str(round(max_freq_range/1000,2)))\n",
    "        print('-------------')\n",
    "\n",
    "        # Clear the plot\n",
    "        plt.close()\n",
    "\n",
    "\n"
   ]
  },
  {
   "cell_type": "code",
   "execution_count": null,
   "metadata": {},
   "outputs": [],
   "source": []
  }
 ],
 "metadata": {
  "kernelspec": {
   "display_name": "Python 3",
   "language": "python",
   "name": "python3"
  },
  "language_info": {
   "codemirror_mode": {
    "name": "ipython",
    "version": 3
   },
   "file_extension": ".py",
   "mimetype": "text/x-python",
   "name": "python",
   "nbconvert_exporter": "python",
   "pygments_lexer": "ipython3",
   "version": "3.11.5"
  }
 },
 "nbformat": 4,
 "nbformat_minor": 4
}
