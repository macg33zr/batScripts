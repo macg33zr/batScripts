{
 "cells": [
  {
   "attachments": {},
   "cell_type": "markdown",
   "metadata": {},
   "source": [
    "# Examine AudioMoth WAV File\n",
    "\n",
    "Look at frequency spectrum and wave form of a WAV fike\n"
   ]
  },
  {
   "attachments": {},
   "cell_type": "markdown",
   "metadata": {},
   "source": [
    "## Choose the file"
   ]
  },
  {
   "cell_type": "code",
   "execution_count": null,
   "metadata": {},
   "outputs": [],
   "source": [
    "# Shared code\n",
    "from utilities import *\n",
    "\n",
    "# ** Set path to files folder here **\n",
    "path = '/Users/bill/Documents/AudioMoth/test/'\n",
    "\n",
    "# Browse for path to file\n",
    "file_dialog = browse_for_path(path, False)\n",
    "print(\"Path is: \", path)"
   ]
  },
  {
   "attachments": {},
   "cell_type": "markdown",
   "metadata": {},
   "source": [
    "## Frequency ranges of interest"
   ]
  },
  {
   "cell_type": "code",
   "execution_count": null,
   "metadata": {},
   "outputs": [],
   "source": [
    "freqRanges = {\n",
    "    # Bats 40Khz to 60Khz\n",
    "    'bats': [40000,60000],\n",
    "\n",
    "    # Birds 1Khz to 12Khz\n",
    "    'birds':[1000,12000],\n",
    "}\n",
    "print('Frequency ranges: ', freqRanges)"
   ]
  },
  {
   "attachments": {},
   "cell_type": "markdown",
   "metadata": {},
   "source": [
    "Run this to examine the file"
   ]
  },
  {
   "cell_type": "code",
   "execution_count": null,
   "metadata": {},
   "outputs": [],
   "source": [
    "# Update path from dialog\n",
    "path = file_dialog.selected\n",
    "print('Examine file: ', path)\n",
    "\n",
    "if(check_wav_file(path) == True):\n",
    "    print('File looks OK for WAV')\n",
    "    \n",
    "    # Spectrogram and frequency chart file paths\n",
    "    spectrogram_path = path + '_spec.jpg'\n",
    "    freq_chart_path = path + '_freq.jpg'\n",
    "    \n",
    "    # Get comment and recorded time, voltage, temp\n",
    "    comment, recorded_time, battery, temperature = get_comment_and_data(path)\n",
    "\n",
    "    # Print some useful info about the files...\n",
    "    print('--------------------------------------------------------------------------------------------------')\n",
    "    print('File: ', path)\n",
    "    print('Spectrogram file: ',spectrogram_path)\n",
    "    print('Freq chart file: ',freq_chart_path)\n",
    "    print('Details: ', comment)\n",
    "    print('Recorded time: ', recorded_time)\n",
    "    print('Battery voltage: ', battery)\n",
    "    print('Temperature: ', temperature)\n",
    "\n",
    "    # Get the WAV file data and sample rate\n",
    "    data, rate = get_wav_info(path)\n",
    "    log_and_print('Sample rate: '+str(rate))\n",
    "\n",
    "    # Plot the spectrogram. Ignore the returned item.. \n",
    "    plot_spectrogram(data, rate, path, recorded_time, spectrogram_path) \n",
    "\n",
    "    # Now print out frequency range data and plot\n",
    "    fileClassified = False\n",
    "    doFreqPlot = True\n",
    "    for freqRangeKey in freqRanges:\n",
    "\n",
    "        freqRangeOfInterest = [freqRanges[freqRangeKey][0],freqRanges[freqRangeKey][1]]\n",
    "\n",
    "        # Get frequencies and plot if not done\n",
    "        max_freq, max_freq_val, finterest_max_val, max_freq_range = plot_get_freqs(data, rate, path, recorded_time, doFreqPlot, freqRangeOfInterest[0], freqRangeOfInterest[1], freq_chart_path)\n",
    " \n",
    "        # Done freq plot so turn that off for next check..\n",
    "        doFreqPlot = False\n",
    "\n",
    "        print('*** Frequency analysis for range: ', str(freqRangeKey))\n",
    "        print('Start frequency : ', str(freqRangeOfInterest[0]))\n",
    "        print('End frequency : ', str(freqRangeOfInterest[1]))\n",
    "\n",
    "        print('Max freq Khz: '+str(round(max_freq/1000,2)))\n",
    "        print('Max freq value: '+str(round(max_freq_val,2)))\n",
    "        print('Freq of interest range (Khz): '+str(freqRangeOfInterest[0]/1000)+','+str(freqRangeOfInterest[1]/1000))\n",
    "        print('Max value in range of interest: '+str(round(finterest_max_val,2)))\n",
    "        print('Max frequency in range of interest (Khz): '+str(round(max_freq_range/1000,2)))\n",
    "        print('-------------')\n"
   ]
  }
 ],
 "metadata": {
  "kernelspec": {
   "display_name": "BatCave",
   "language": "python",
   "name": "python3"
  },
  "language_info": {
   "codemirror_mode": {
    "name": "ipython",
    "version": 3
   },
   "file_extension": ".py",
   "mimetype": "text/x-python",
   "name": "python",
   "nbconvert_exporter": "python",
   "pygments_lexer": "ipython3",
   "version": "3.9.16"
  },
  "orig_nbformat": 4,
  "vscode": {
   "interpreter": {
    "hash": "dae879bd25a9c9237fcf24c9e40251f2303c5e6eda173e83576984872a3c5d2e"
   }
  }
 },
 "nbformat": 4,
 "nbformat_minor": 2
}
